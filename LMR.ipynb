{
 "cells": [
  {
   "cell_type": "markdown",
   "metadata": {
    "collapsed": false,
    "deletable": true,
    "editable": true
   },
   "source": [
    "### 1. Model \n",
    "#### Linear model with random effects:\n",
    "$y_{it} = \\beta x_{it} + u_i + \\epsilon_{it}$,\n",
    "where\n",
    "- $y_{it}$ univariate, repeated measurements of individual i at time t, $i=1,\\cdots,n$, $t = 1,\\cdots,T$\n",
    "- $x_{it}$ univariate, covariate\n",
    "- $\\beta$ univariate coefficient\n",
    "- $u_i$ random effect, for addressing time dependency, $N(0, \\psi_{u})$\n",
    "- $\\epsilon_{it}$ residual, $N(0, \\psi_{\\epsilon})$\n",
    "\n",
    "#### Bayesian inference:\n",
    "##### Prior \n",
    "- $\\psi_{\\epsilon}$: $IG(a_{\\epsilon 0}, b_{\\epsilon 0})$\n",
    "- $\\beta ~|~ \\psi_{\\epsilon}$: $N(\\beta_0, \\sigma_0 \\psi_{\\epsilon})$\n",
    "- $\\psi_{u}$: $IG(a_{u 0}, b_{u 0})$\n",
    "\n",
    "where IG(a, b) has pdf $f(x) = \\frac{b^a}{\\Gamma(a)} x^{-(a+1)} e^{-b/x}$\n",
    "\n",
    "##### Posterior\n",
    "1. p($\\psi_{\\epsilon}$| all others)\n",
    "\n",
    "$p(\\psi_{\\epsilon}|\\cdot)$\n",
    "\n",
    "$\\propto \\prod_{i=1}^n \\prod_{t=1}^T p(y_{it}|\\beta, u_i, \\psi_{\\epsilon}) \\cdot  p(\\psi_{\\epsilon})$\n",
    "\n",
    "$\\propto \\prod_{i=1}^n \\prod_{t=1}^T \\frac{1}{\\sqrt{2 \\pi \\psi_{\\epsilon}}} \\exp \\{-\\frac{1}{2 \\psi_{\\epsilon}}(y_{it}-\\beta x_{it}-u_i)^2\\} \\cdot \\frac{b_{\\epsilon 0}^{a_{\\epsilon 0}}}{\\Gamma(a_{\\epsilon 0})} \\psi_{\\epsilon}^{-(a_{\\epsilon 0}+1)} e^{-\\frac{b_{\\epsilon 0}}{\\psi_{\\epsilon}}}$\n",
    "\n",
    "$\\propto \\psi_{\\epsilon}^{-(\\frac{nT}{2}+a_{\\epsilon 0}+1)} \\exp \\{-\\frac{1}{\\psi_{\\epsilon}}(\\frac{1}{2} \\sum_{i=1}^n \\sum_{t=1}^T (y_{it}-\\beta x_{it}-u_i)^2 + b_{\\epsilon 0})\\}$\n",
    "\n",
    "$\\rightarrow IG(a_{\\epsilon}^*, b_{\\epsilon}^*)$, \n",
    "\n",
    "with $a_{\\epsilon}^* = a_{\\epsilon 0}+\\frac{nT}{2}$,  $b_{\\epsilon}^* = b_{\\epsilon 0}+\\frac{1}{2} \\sum_{i=1}^n \\sum_{t=1}^T (y_{it}-\\beta x_{it}-u_i)^2$ \n",
    "\n",
    "2. p($\\beta$ | $\\psi_{\\epsilon}$ and all others)\n",
    "\n",
    "$p(\\beta|\\cdot)$\n",
    "\n",
    "$\\propto \\prod_{i=1}^n \\prod_{t=1}^T p(y_{it}|\\beta, u_i, \\psi_{\\epsilon}) \\cdot  p(\\beta|\\psi_{\\epsilon})$\n",
    "\n",
    "$\\propto \\exp\\{-\\frac{1}{2 \\psi_{\\epsilon}}(y_{it}-\\beta x_{it}-u_i)^2\\} \\cdot \\exp\\{-\\frac{1}{2 \\sigma_0^2 \\psi_{\\epsilon}}(\\beta-\\beta_0)^2\\}$\n",
    "\n",
    "$\\propto \\exp \\{ -\\frac{1}{2} \\frac{\\sigma_0^2 \\sum_{i=1}^n \\sum_{t=1}^T x_{it}+1}{\\psi_{\\epsilon} \\sigma_0^2} (\\beta^2 - 2 \\frac{\\sigma_0^2\\sum_{i=1}^n \\sum_{t=1}^T x_{it}(y_{it}-u_i)+\\beta_0}{\\sigma_0^2 \\sum_{i=1}^n \\sum_{t=1}^T x_{it}^2+1} \\beta) \\}$\n",
    "\n",
    "$\\rightarrow N(\\beta^*, \\sigma^{2*}_{\\beta})$\n",
    "\n",
    "with $\\beta^* = \\frac{\\sigma_0^2\\sum_{i=1}^n \\sum_{t=1}^T x_{it}(y_{it}-u_i)+\\beta_0}{\\sigma_0^2 \\sum_{i=1}^n \\sum_{t=1}^T x_{it}^2+1}$,  $\\sigma^{2*}_{\\beta} = \\frac{\\psi_{\\epsilon} \\sigma_0^2}{\\sigma_0^2 \\sum_{i=1}^n \\sum_{t=1}^T x_{it}+1}$\n",
    "\n",
    "3. p($u_i$|all others)\n",
    "\n",
    "$p(u_i|\\cdot)$\n",
    "\n",
    "$\\propto \\prod_{t=1}^T p(y_{it}|\\beta, u_i, \\psi_{\\epsilon}) \\cdot p(u_i|\\psi_u)$\n",
    "\n",
    "$\\propto \\exp\\{-\\frac{1}{2 \\psi_{\\epsilon}}(y_{it}-\\beta x_{it}-u_i)^2\\} \\cdot \\exp\\{-\\frac{u_i^2}{2 \\psi_u} \\}$\n",
    "\n",
    "$\\propto \\exp \\{ \\frac{1}{2} (\\frac{T}{\\psi_{\\epsilon}}+\\frac{1}{\\psi_u}) [ u_i^2 + 2 \\frac{ \\frac{1}{\\psi_{\\epsilon} }\\sum_{t=1}^T (y_{it}-\\beta x_{it})}{\\frac{T}{\\psi_{\\epsilon}}+\\frac{1}{\\psi_u}} u_i] \\}$\n",
    "\n",
    "$\\rightarrow N(\\mu_i^*, \\sigma_u^{2*})$\n",
    "\n",
    "with $\\sigma_u^{2*} = (\\frac{T}{\\psi_{\\epsilon}}+\\frac{1}{\\psi_u})^{-1}$, $\\mu_i^* = \\sigma_u^{2*} \\cdot \\frac{1}{\\psi_{\\epsilon} }\\sum_{t=1}^T (y_{it}-\\beta x_{it})$\n",
    "\n",
    "4. p($\\psi_u$|all others)\n",
    "\n",
    "$p(\\psi_u|\\cdot)$\n",
    "\n",
    "$\\propto \\prod_{i=1}^n p(u_i|\\psi_u) \\cdot p(\\psi_u)$\n",
    "\n",
    "$\\propto \\prod_{i=1}^n \\frac{1}{\\sqrt{2 \\pi \\psi_u}} \\exp\\{-\\frac{u_i^2}{2 \\psi_u} \\} \\cdot \\frac{b_{u0}^{a_{u0}}}{\\Gamma(a_{u0})} \\psi_u^{-(a_{u0}+1)} e^{-b_{u0}/\\psi_u}$\n",
    "\n",
    "$\\propto \\psi_u^{-(\\frac{n}{2}+a_{u0}+1)} \\exp\\{ -(b_{u0}+\\frac{1}{2}\\sum_{i=1}^nu_i^2) /\\psi_u \\}$\n",
    "\n",
    "$\\rightarrow IG(a_{u0}^*, b_{u0}^*)$\n",
    "\n",
    "with $a_{u0^*} = a_{u0}+\\frac{n}{2}$, $b_{u0}^* = b_{u0}+\\frac{1}{2}\\sum_{i=1}^nu_i^2$\n"
   ]
  },
  {
   "cell_type": "code",
   "execution_count": 18,
   "metadata": {
    "collapsed": false,
    "deletable": true,
    "editable": true
   },
   "outputs": [
    {
     "name": "stdout",
     "output_type": "stream",
     "text": [
      "Linear model with random effects - simulation"
     ]
    }
   ],
   "source": [
    "cat(\"Linear model with random effects - simulation\")"
   ]
  },
  {
   "cell_type": "markdown",
   "metadata": {
    "collapsed": true,
    "deletable": true,
    "editable": true
   },
   "source": [
    "### 2. True value\n",
    "Given true values etc.\n",
    "- $n$ sample size\n",
    "- $T$ number of time points\n",
    "- $\\beta$, $\\psi_u$, $\\psi_{\\epsilon}$ parameters"
   ]
  },
  {
   "cell_type": "code",
   "execution_count": 1,
   "metadata": {
    "collapsed": false,
    "deletable": true,
    "editable": true
   },
   "outputs": [
    {
     "name": "stdout",
     "output_type": "stream",
     "text": [
      "Define constants."
     ]
    }
   ],
   "source": [
    "cat(\"Define constants.\")\n",
    "n = 1000\n",
    "T = 10\n",
    "beta_true = 0.8\n",
    "psiU_true = 0.3\n",
    "psiE_true = 0.3"
   ]
  },
  {
   "cell_type": "markdown",
   "metadata": {
    "deletable": true,
    "editable": true
   },
   "source": [
    "### 3. Generate data\n",
    "Generate $x_{it}$, $u_i$, $y_{it}$ in turn.\n",
    "$x = (x_{1,1}, x_{2,1}, \\cdots, x_{n,1}, \\cdots, x_{1,T}, x_{2,T}, \\cdots, x_{n,T})$ is a vector. $y$ similar."
   ]
  },
  {
   "cell_type": "code",
   "execution_count": 2,
   "metadata": {
    "collapsed": false,
    "deletable": true,
    "editable": true
   },
   "outputs": [
    {
     "name": "stdout",
     "output_type": "stream",
     "text": [
      "Generate data."
     ]
    }
   ],
   "source": [
    "cat(\"Generate data.\")\n",
    "x = rnorm(n*T)\n",
    "u_true = rnorm(n, 0 , sqrt(psiU_true))\n",
    "y = beta_true * x + rep(u_true, T) + rnorm(n*T, 0, sqrt(psiE_true))"
   ]
  },
  {
   "cell_type": "markdown",
   "metadata": {
    "deletable": true,
    "editable": true
   },
   "source": [
    "### 4. Prior \n",
    "- $\\psi_{\\epsilon}$: $IG(a_{\\epsilon 0}, b_{\\epsilon 0})$\n",
    "- $\\beta ~|~ \\psi_{\\epsilon}$: $N(\\beta_0, \\sigma_0 \\psi_{\\epsilon})$\n",
    "- $\\psi_{u}$: $IG(a_{u 0}, b_{u 0})$"
   ]
  },
  {
   "cell_type": "code",
   "execution_count": 3,
   "metadata": {
    "collapsed": false,
    "deletable": true,
    "editable": true
   },
   "outputs": [
    {
     "name": "stdout",
     "output_type": "stream",
     "text": [
      "Define prior hyperparameters."
     ]
    }
   ],
   "source": [
    "cat(\"Define prior hyperparameters.\")\n",
    "aE0 = 3\n",
    "bE0 = 5\n",
    "beta0 = 0\n",
    "sigma0 = 100\n",
    "aU0 = 3\n",
    "bU0 = 5"
   ]
  },
  {
   "cell_type": "markdown",
   "metadata": {
    "deletable": true,
    "editable": true
   },
   "source": [
    "### 5. Variables for MCMC iterations\n",
    "nIter - number of MCMC iterations in total\n",
    "nBurn - number of burn-in interations. \n",
    "beta, u, psiE, psiU - current value.  \n",
    "beta_sample, u_sample, psiE_sample, psiU_sample - store the posterior samples"
   ]
  },
  {
   "cell_type": "code",
   "execution_count": 4,
   "metadata": {
    "collapsed": false,
    "deletable": true,
    "editable": true
   },
   "outputs": [
    {
     "name": "stdout",
     "output_type": "stream",
     "text": [
      "Variables for MCMC."
     ]
    }
   ],
   "source": [
    "cat(\"Variables for MCMC.\")\n",
    "nIter = 500\n",
    "nBurn = 200\n",
    "beta = 0\n",
    "u = rep(0, n)\n",
    "psiE = 0\n",
    "psiU = 0\n",
    "beta_sample = rep(0, nIter-nBurn)\n",
    "u_sample = array(0, c(n, nIter-nBurn))\n",
    "psiE_sample = rep(0, nIter-nBurn)\n",
    "psiU_sample = rep(0, nIter-nBurn)"
   ]
  },
  {
   "cell_type": "markdown",
   "metadata": {
    "deletable": true,
    "editable": true
   },
   "source": [
    "### 6. Set initial values"
   ]
  },
  {
   "cell_type": "code",
   "execution_count": 5,
   "metadata": {
    "collapsed": false,
    "deletable": true,
    "editable": true
   },
   "outputs": [
    {
     "name": "stdout",
     "output_type": "stream",
     "text": [
      "Set initial values."
     ]
    }
   ],
   "source": [
    "cat(\"Set initial values.\")\n",
    "beta = 0\n",
    "u = rnorm(n)\n",
    "psiE = 1\n",
    "psiU = 1"
   ]
  },
  {
   "cell_type": "markdown",
   "metadata": {
    "deletable": true,
    "editable": true
   },
   "source": [
    "### 7. MCMC iterations\n",
    "1. update $\\psi_{\\epsilon}$ and $\\beta$\n",
    "2. update $\\psi_u$\n",
    "2. update $u_i$"
   ]
  },
  {
   "cell_type": "code",
   "execution_count": 6,
   "metadata": {
    "collapsed": false,
    "deletable": true,
    "editable": true
   },
   "outputs": [
    {
     "name": "stdout",
     "output_type": "stream",
     "text": [
      "iteration =  100 \n",
      "iteration =  200 \n",
      "iteration =  300 \n",
      "iteration =  400 \n",
      "iteration =  500 \n",
      "MCMC updates."
     ]
    }
   ],
   "source": [
    "cat(\"MCMC updates.\")\n",
    "for (g in 1:nIter)\n",
    "{\n",
    "    # print the loop index \n",
    "    if (g%%100 == 0) cat(\"iteration = \", g, \"\\n\")\n",
    "        \n",
    "    # 1. update psiE and beta\n",
    "    # 1.1 update psiE\n",
    "    aES = aE0 + n*T/2\n",
    "    bES = bE0 + 0.5 * sum((y - beta*x - rep(u, T))^2)  \n",
    "    psiE = 1/rgamma(1, shape = aES, rate = bES) # IG(aES, bES)\n",
    "    if (g > nBurn)\n",
    "    {\n",
    "      psiE_sample[g-nBurn] = psiE      \n",
    "    }   \n",
    "    # 1.2 update beta\n",
    "    betaS = sigma0 * sum(x*(y-rep(u, T))) + beta0\n",
    "    betaS = betaS/(sigma0*sum(x^2)+1)\n",
    "    sigBS = psiE*sigma0/(sigma0*sum(x^2) + 1) \n",
    "    beta = rnorm(1, betaS, sqrt(sigBS)) # N(betaS, sigBS)\n",
    "    if (g > nBurn)\n",
    "    {\n",
    "      beta_sample[g-nBurn] = beta\n",
    "    } \n",
    "        \n",
    "    # 2. update u\n",
    "    sigUS = 1/(T/psiE + 1/psiU) \n",
    "    yBX = y - beta*x\n",
    "    yBX = array(yBX, c(n, T))   \n",
    "    yBX = rowSums(yBX)\n",
    "    muS = sigUS/psiE * yBX\n",
    "    u = rnorm(n, muS, sqrt(sigUS)) # N(muS, sigUS)\n",
    "    if (g > nBurn)\n",
    "    {\n",
    "      u_sample[,g-nBurn] = u\n",
    "    }\n",
    "        \n",
    "    # 3. update psiU  \n",
    "    aUS = aU0 + n/2\n",
    "    bUS = bU0 + 0.5 * sum(u^2)    \n",
    "    psiU = 1/rgamma(1, shape = aUS, rate = bUS) # IG(sUS, bUS)\n",
    "    if (g > nBurn)\n",
    "    {\n",
    "      psiU_sample[g-nBurn] = psiU      \n",
    "    }\n",
    "}"
   ]
  },
  {
   "cell_type": "markdown",
   "metadata": {
    "collapsed": true,
    "deletable": true,
    "editable": true
   },
   "source": [
    "### 8. Estimations "
   ]
  },
  {
   "cell_type": "code",
   "execution_count": 7,
   "metadata": {
    "collapsed": false,
    "deletable": true,
    "editable": true
   },
   "outputs": [
    {
     "name": "stdout",
     "output_type": "stream",
     "text": [
      "Estimations.psiE_est =  0.2987124 , bias =  -0.001287555 \n",
      "beta_est =  0.8008493 , bias =  0.0008492767 \n",
      "psiU_est =  0.3000776 , bias =  7.762845e-05 \n"
     ]
    }
   ],
   "source": [
    "cat(\"Estimations.\")\n",
    "psiE_est = mean(psiE_sample)\n",
    "beta_est = mean(beta_sample)\n",
    "psiU_est = mean(psiU_sample)\n",
    "cat(\"psiE_est = \", psiE_est, \", bias = \", psiE_est - psiE_true, \"\\n\")\n",
    "cat(\"beta_est = \", beta_est, \", bias = \", beta_est - beta_true, \"\\n\")\n",
    "cat(\"psiU_est = \", psiU_est, \", bias = \", psiU_est - psiU_true, \"\\n\")"
   ]
  },
  {
   "cell_type": "code",
   "execution_count": null,
   "metadata": {
    "collapsed": true,
    "deletable": true,
    "editable": true
   },
   "outputs": [],
   "source": []
  }
 ],
 "metadata": {
  "kernelspec": {
   "display_name": "R",
   "language": "R",
   "name": "ir"
  },
  "language_info": {
   "codemirror_mode": "r",
   "file_extension": ".r",
   "mimetype": "text/x-r-source",
   "name": "R",
   "pygments_lexer": "r",
   "version": "3.3.3"
  }
 },
 "nbformat": 4,
 "nbformat_minor": 2
}
